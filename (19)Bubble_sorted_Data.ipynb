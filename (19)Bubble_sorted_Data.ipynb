{
 "cells": [
  {
   "cell_type": "code",
   "execution_count": 1,
   "metadata": {},
   "outputs": [
    {
     "name": "stdout",
     "output_type": "stream",
     "text": [
      "sorted data is [-77, -33, -1, 3, 11, 23, 44, 45, 56, 78, 89, 99]\n"
     ]
    }
   ],
   "source": [
    "list= [23,45,56,78,3,89,-1,-33,-77,44,99,11]\n",
    "def Bubble(list):\n",
    "    h = len(list)\n",
    "    for i in range(h):\n",
    "        for k in range(0,h-i-1):\n",
    "            if list[k]>=list[k+1]:\n",
    "                list[k],list[k+1]= list[k+1],list[k]\n",
    "    return list\n",
    "       \n",
    "print('sorted data is',Bubble(list))"
   ]
  }
 ],
 "metadata": {
  "kernelspec": {
   "display_name": "Python 3.11.1 64-bit",
   "language": "python",
   "name": "python3"
  },
  "language_info": {
   "codemirror_mode": {
    "name": "ipython",
    "version": 3
   },
   "file_extension": ".py",
   "mimetype": "text/x-python",
   "name": "python",
   "nbconvert_exporter": "python",
   "pygments_lexer": "ipython3",
   "version": "3.11.1"
  },
  "orig_nbformat": 4,
  "vscode": {
   "interpreter": {
    "hash": "a7627f1bfa14ac677299dcab94b37cd642a9a5393027346479b1e4dc591e7763"
   }
  }
 },
 "nbformat": 4,
 "nbformat_minor": 2
}

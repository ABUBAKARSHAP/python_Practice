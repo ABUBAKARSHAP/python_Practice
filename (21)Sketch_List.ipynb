{
 "cells": [
  {
   "cell_type": "code",
   "execution_count": null,
   "metadata": {},
   "outputs": [],
   "source": [
    "from sketchpy import library as lib\n",
    "\n",
    "obj=lib.gojo()\n",
    "obj.draw()"
   ]
  },
  {
   "cell_type": "code",
   "execution_count": null,
   "metadata": {},
   "outputs": [],
   "source": [
    "from sketchpy import library as lib\n",
    "\n",
    "obj=lib.apj()\n",
    "obj.draw()"
   ]
  },
  {
   "cell_type": "code",
   "execution_count": null,
   "metadata": {},
   "outputs": [],
   "source": [
    "from sketchpy import library as lib\n",
    "\n",
    "obj=lib.rdj()\n",
    "obj.draw()"
   ]
  },
  {
   "cell_type": "code",
   "execution_count": null,
   "metadata": {},
   "outputs": [],
   "source": [
    "from sketchpy import library as lib\n",
    "\n",
    "obj=lib.vijay()\n",
    "obj.draw()"
   ]
  },
  {
   "cell_type": "code",
   "execution_count": null,
   "metadata": {},
   "outputs": [],
   "source": [
    "from sketchpy import library as lib\n",
    "\n",
    "obj=lib.tom_holland()\n",
    "obj.draw()"
   ]
  },
  {
   "cell_type": "code",
   "execution_count": null,
   "metadata": {},
   "outputs": [],
   "source": [
    "from sketchpy import library as lib\n",
    "\n",
    "obj=lib.flag()\n",
    "obj.draw()"
   ]
  },
  {
   "cell_type": "code",
   "execution_count": null,
   "metadata": {},
   "outputs": [],
   "source": [
    "from sketchpy import library as lib\n",
    "\n",
    "obj=lib.ironman_ascii()\n",
    "obj.draw()"
   ]
  }
 ],
 "metadata": {
  "kernelspec": {
   "display_name": "Python 3.11.1 64-bit",
   "language": "python",
   "name": "python3"
  },
  "language_info": {
   "name": "python",
   "version": "3.11.1"
  },
  "orig_nbformat": 4,
  "vscode": {
   "interpreter": {
    "hash": "a7627f1bfa14ac677299dcab94b37cd642a9a5393027346479b1e4dc591e7763"
   }
  }
 },
 "nbformat": 4,
 "nbformat_minor": 2
}

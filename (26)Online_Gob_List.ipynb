{
 "cells": [
  {
   "cell_type": "code",
   "execution_count": null,
   "metadata": {},
   "outputs": [],
   "source": [
    "from selenium import webdriver\n",
    "from bs4 import BeautifulSoup"
   ]
  },
  {
   "cell_type": "code",
   "execution_count": null,
   "metadata": {},
   "outputs": [],
   "source": [
    "k = input(\"entre the name\")\n",
    "page_no =int(input(\"enter the page number\"))\n",
    "location =(input(\"enter the job location\"))\n"
   ]
  },
  {
   "cell_type": "code",
   "execution_count": null,
   "metadata": {},
   "outputs": [],
   "source": [
    "url = f\"https://pk.indeed.com/jobs?q={k}&l={location}&start={page_no*10}\"\n",
    "driver = webdriver.Chrome()\n",
    "driver.get(url)\n",
    "source = driver.page_source\n"
   ]
  },
  {
   "cell_type": "code",
   "execution_count": null,
   "metadata": {},
   "outputs": [],
   "source": [
    "soup = BeautifulSoup(source,\"html.parser\")\n",
    "job = soup.find('div',class_='jobsearch-JobCountAndSortPane-jobCount').text\n",
    "job_int = int(\"\".join(filter(str.isdigit,job)))\n",
    "total_page = job_int//15\n",
    "total_page\n",
    "job_title = soup.find(\"h2\",class_=\"jobTitle\").text\n",
    "job_title\n",
    "\n"
   ]
  },
  {
   "cell_type": "code",
   "execution_count": null,
   "metadata": {},
   "outputs": [],
   "source": [
    "import os \n",
    "def linear_search(director,target):\n",
    "    for root, dirs,files in os.walk(director):\n",
    "        for  file  in files:\n",
    "            if file == target:\n",
    "                return os.path.join(root,file)\n",
    "    return None\n",
    "\n",
    "director = \"C:\\Program Files\\Google\\Chrome\\Application\\SetupMetrics\"\n",
    "target = \"20230112002526.pma\"\n",
    "file_path = linear_search(director,target)\n",
    "if file_path:\n",
    "    print(\"file is found\",{file_path})\n",
    "else:\n",
    "    print(\"file is not found\")"
   ]
  }
 ],
 "metadata": {
  "language_info": {
   "name": "python"
  },
  "orig_nbformat": 4
 },
 "nbformat": 4,
 "nbformat_minor": 2
}

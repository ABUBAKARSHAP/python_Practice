{
 "cells": [
  {
   "cell_type": "code",
   "execution_count": 1,
   "metadata": {},
   "outputs": [
    {
     "ename": "TypeError",
     "evalue": "startswith first arg must be str or a tuple of str, not list",
     "output_type": "error",
     "traceback": [
      "\u001b[1;31m---------------------------------------------------------------------------\u001b[0m",
      "\u001b[1;31mTypeError\u001b[0m                                 Traceback (most recent call last)",
      "Cell \u001b[1;32mIn[1], line 30\u001b[0m\n\u001b[0;32m     27\u001b[0m     \u001b[39melse\u001b[39;00m:\n\u001b[0;32m     28\u001b[0m         \u001b[39mprint\u001b[39m(\u001b[39m\"\u001b[39m\u001b[39mNo suggestions found.\u001b[39m\u001b[39m\"\u001b[39m)\n\u001b[1;32m---> 30\u001b[0m Hello_for_Enter()\n",
      "Cell \u001b[1;32mIn[1], line 22\u001b[0m, in \u001b[0;36mHello_for_Enter\u001b[1;34m()\u001b[0m\n\u001b[0;32m     19\u001b[0m word\u001b[39m=\u001b[39m [\u001b[39m\"\u001b[39m\u001b[39mapple\u001b[39m\u001b[39m\"\u001b[39m, \u001b[39m\"\u001b[39m\u001b[39mbanana\u001b[39m\u001b[39m\"\u001b[39m, \u001b[39m\"\u001b[39m\u001b[39mcherry\u001b[39m\u001b[39m\"\u001b[39m,\u001b[39m\"\u001b[39m\u001b[39mdate\u001b[39m\u001b[39m\"\u001b[39m, \u001b[39m\"\u001b[39m\u001b[39mfig\u001b[39m\u001b[39m\"\u001b[39m, \u001b[39m\"\u001b[39m\u001b[39mgrape\u001b[39m\u001b[39m\"\u001b[39m, \u001b[39m\"\u001b[39m\u001b[39mkiwi\u001b[39m\u001b[39m\"\u001b[39m, \u001b[39m\"\u001b[39m\u001b[39mlemon\u001b[39m\u001b[39m\"\u001b[39m, \u001b[39m\"\u001b[39m\u001b[39mmelon\u001b[39m\u001b[39m\"\u001b[39m, \u001b[39m\"\u001b[39m\u001b[39morange\u001b[39m\u001b[39m\"\u001b[39m, \u001b[39m\"\u001b[39m\u001b[39mpeach\u001b[39m\u001b[39m\"\u001b[39m, \u001b[39m\"\u001b[39m\u001b[39mpear\u001b[39m\u001b[39m\"\u001b[39m, \u001b[39m\"\u001b[39m\u001b[39mpineapple\u001b[39m\u001b[39m\"\u001b[39m, \u001b[39m\"\u001b[39m\u001b[39mraspberry\u001b[39m\u001b[39m\"\u001b[39m, \u001b[39m\"\u001b[39m\u001b[39mstrawberry\u001b[39m\u001b[39m\"\u001b[39m]\n\u001b[0;32m     21\u001b[0m \u001b[39m# Find the autocomplete suggestion for the user's input\u001b[39;00m\n\u001b[1;32m---> 22\u001b[0m suggestion \u001b[39m=\u001b[39m autocomplete(s, word)\n\u001b[0;32m     24\u001b[0m \u001b[39m# If a suggestion is found, display it to the user\u001b[39;00m\n\u001b[0;32m     25\u001b[0m \u001b[39mif\u001b[39;00m suggestion \u001b[39mis\u001b[39;00m \u001b[39mnot\u001b[39;00m \u001b[39mNone\u001b[39;00m:\n",
      "Cell \u001b[1;32mIn[1], line 6\u001b[0m, in \u001b[0;36mautocomplete\u001b[1;34m(words, s)\u001b[0m\n\u001b[0;32m      4\u001b[0m \u001b[39mwhile\u001b[39;00m low \u001b[39m<\u001b[39m\u001b[39m=\u001b[39m high:\n\u001b[0;32m      5\u001b[0m     mid \u001b[39m=\u001b[39m (low \u001b[39m+\u001b[39m high) \u001b[39m/\u001b[39m\u001b[39m/\u001b[39m \u001b[39m2\u001b[39m\n\u001b[1;32m----> 6\u001b[0m     \u001b[39mif\u001b[39;00m words[mid]\u001b[39m.\u001b[39;49mstartswith(s):\n\u001b[0;32m      7\u001b[0m         \u001b[39mreturn\u001b[39;00m words[mid]\n\u001b[0;32m      8\u001b[0m     \u001b[39melif\u001b[39;00m words[mid] \u001b[39m<\u001b[39m\u001b[39m=\u001b[39m s:\n",
      "\u001b[1;31mTypeError\u001b[0m: startswith first arg must be str or a tuple of str, not list"
     ]
    }
   ],
   "source": [
    "def autocomplete(words,s):  ### RAIAL PROBLAM\n",
    "    low = 0\n",
    "    high = len(words) - 1\n",
    "    while low <= high:\n",
    "        mid = (low + high) // 2\n",
    "        if words[mid].startswith(s):\n",
    "            return words[mid]\n",
    "        elif words[mid] <= s:\n",
    "            low = mid + 1\n",
    "        else:\n",
    "            high = mid - 1\n",
    "    return None\n",
    "\n",
    "def Hello_for_Enter():\n",
    "    # Get user input\n",
    "    s = (input(\"Search: \"))\n",
    "\n",
    "    # Define a list of example words\n",
    "    word= [\"apple\", \"banana\", \"cherry\",\"date\", \"fig\", \"grape\", \"kiwi\", \"lemon\", \"melon\", \"orange\", \"peach\", \"pear\", \"pineapple\", \"raspberry\", \"strawberry\"]\n",
    "\n",
    "    # Find the autocomplete suggestion for the user's input\n",
    "    suggestion = autocomplete(s, word)\n",
    "\n",
    "    # If a suggestion is found, display it to the user\n",
    "    if suggestion is not None:\n",
    "        print(\"Did you mean: \" + suggestion)\n",
    "    else:\n",
    "        print(\"No suggestions found.\")\n",
    "\n",
    "Hello_for_Enter()"
   ]
  },
  {
   "cell_type": "code",
   "execution_count": 9,
   "metadata": {},
   "outputs": [
    {
     "name": "stdout",
     "output_type": "stream",
     "text": [
      "find this value:apple\n"
     ]
    }
   ],
   "source": [
    "def binery(data,elem):\n",
    "    s = 0\n",
    "    e = len(data)-1\n",
    "    while s<=e:\n",
    "        mid = (s+e)//2\n",
    "        if data[mid].startswith(elem):\n",
    "            return data[mid]\n",
    "        elif data[mid]<=elem:\n",
    "            s = mid + 1\n",
    "        else:\n",
    "            e = mid - 1\n",
    "    return None\n",
    "    \n",
    "def binery_search():\n",
    "    elem =(input(\"search\"))\n",
    "    data =[\"apple\", \"banana\", \"cherry\",\"date\", \"fig\", \"grape\", \"kiwi\", \"lemon\", \"melon\", \"orange\", \"peach\", \"pear\", \"pineapple\", \"raspberry\", \"strawberry\"]\n",
    "    dalet = binery(data,elem)\n",
    "    if dalet is not None:\n",
    "        print('find this value:' + dalet)\n",
    "    else:\n",
    "        print(\"not found this value\")\n",
    "binery_search()"
   ]
  }
 ],
 "metadata": {
  "kernelspec": {
   "display_name": "Python 3.11.1 64-bit",
   "language": "python",
   "name": "python3"
  },
  "language_info": {
   "codemirror_mode": {
    "name": "ipython",
    "version": 3
   },
   "file_extension": ".py",
   "mimetype": "text/x-python",
   "name": "python",
   "nbconvert_exporter": "python",
   "pygments_lexer": "ipython3",
   "version": "3.11.1"
  },
  "orig_nbformat": 4,
  "vscode": {
   "interpreter": {
    "hash": "a7627f1bfa14ac677299dcab94b37cd642a9a5393027346479b1e4dc591e7763"
   }
  }
 },
 "nbformat": 4,
 "nbformat_minor": 2
}

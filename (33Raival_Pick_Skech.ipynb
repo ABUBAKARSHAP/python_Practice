{
 "cells": [
  {
   "cell_type": "code",
   "execution_count": null,
   "metadata": {},
   "outputs": [],
   "source": [
    "import cv2\n",
    "img=cv2.imread('D://a.JPG')\n",
    "gr=cv2.cvtColor(img,cv2.COLOR_BGR2GRAY)\n",
    "invert=cv2.bitwise_not(gr)\n",
    "blur=cv2.GaussianBlur(invert,(21,21),0)\n",
    "invertedblur=cv2.bitwise_not(blur)\n",
    "sketch=cv2.divide(gr,invertedblur,scale=256.0)\n",
    "cv2.imshow(\"original image\",img)\n",
    "cv2.imwrite('D://sketch.jpg',sketch)\n",
    "\n",
    "cv2.imshow('sketch image',sketch)\n",
    "cv2.waitKey(0)\n"
   ]
  },
  {
   "cell_type": "code",
   "execution_count": null,
   "metadata": {},
   "outputs": [],
   "source": [
    "from sketchpy import canvas\n",
    "import turtle\n",
    "obj = canvas.sketch_from_svg(\"ABU BAKAR.jpg\")\n",
    "t=turtle.Turtle()\n",
    "t.goto(-20,100)\n",
    "t.pendown()\n",
    "t.pencolor(\"#f87459\")\n",
    "t.write(\"ABU BAKAR\",align=\"center\",font=(\"Arial\",50,\"bold\"))\n",
    "obj.draw()\n",
    "t.hideturtle()\n",
    "turtle.done()"
   ]
  },
  {
   "cell_type": "code",
   "execution_count": null,
   "metadata": {},
   "outputs": [],
   "source": [
    "import os\n",
    "\n",
    "def calculate_file_size(file_path):\n",
    "    if os.path.isfile(file_path):\n",
    "        size = os.path.getsize(file_path)\n",
    "        return f\"{size} bytes\"\n",
    "    else:\n",
    "        return \"File not found.\"\n",
    "\n",
    "file_path = input(\"Enter the file path: \")\n",
    "print(\"File Size:\", calculate_file_size(file_path))\n"
   ]
  }
 ],
 "metadata": {
  "language_info": {
   "name": "python"
  },
  "orig_nbformat": 4
 },
 "nbformat": 4,
 "nbformat_minor": 2
}

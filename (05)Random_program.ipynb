{
 "cells": [
  {
   "cell_type": "code",
   "execution_count": 6,
   "metadata": {},
   "outputs": [
    {
     "name": "stdout",
     "output_type": "stream",
     "text": [
      "Welcome to the Rock, Paper, Scissors Game!\n",
      "Player choice: scissors\n",
      "Computer choice: rock\n",
      "Computer wins!\n"
     ]
    }
   ],
   "source": [
    "import random\n",
    "\n",
    "def play_game(player_choice):\n",
    "    choices = ['rock', 'paper', 'scissors']\n",
    "    computer_choice = random.choice(choices)\n",
    "\n",
    "    print(\"Player choice:\", player_choice)\n",
    "    print(\"Computer choice:\", computer_choice)\n",
    "\n",
    "    if player_choice == computer_choice:\n",
    "        return \"It's a tie!\"\n",
    "    elif (\n",
    "        (player_choice == 'rock' and computer_choice == 'scissors') or\n",
    "        (player_choice == 'paper' and computer_choice == 'rock') or\n",
    "        (player_choice == 'scissors' and computer_choice == 'paper')\n",
    "    ):\n",
    "        return \"Player wins!\"\n",
    "    else:\n",
    "        return \"Computer wins!\"\n",
    "\n",
    "print(\"Welcome to the Rock, Paper, Scissors Game!\")\n",
    "player_choice = input(\"Enter your choice (rock/paper/scissors): \").lower()\n",
    "print(play_game(player_choice))\n"
   ]
  }
 ],
 "metadata": {
  "kernelspec": {
   "display_name": "Python 3.11.1 64-bit",
   "language": "python",
   "name": "python3"
  },
  "language_info": {
   "codemirror_mode": {
    "name": "ipython",
    "version": 3
   },
   "file_extension": ".py",
   "mimetype": "text/x-python",
   "name": "python",
   "nbconvert_exporter": "python",
   "pygments_lexer": "ipython3",
   "version": "3.11.1"
  },
  "orig_nbformat": 4,
  "vscode": {
   "interpreter": {
    "hash": "a7627f1bfa14ac677299dcab94b37cd642a9a5393027346479b1e4dc591e7763"
   }
  }
 },
 "nbformat": 4,
 "nbformat_minor": 2
}

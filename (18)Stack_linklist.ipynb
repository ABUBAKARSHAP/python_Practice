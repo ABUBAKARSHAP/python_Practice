{
 "cells": [
  {
   "cell_type": "code",
   "execution_count": 1,
   "metadata": {},
   "outputs": [
    {
     "name": "stdout",
     "output_type": "stream",
     "text": [
      "ouer under full\n",
      "[43, 89, 90, 76, 0]\n",
      "76\n",
      "False\n",
      "True\n"
     ]
    }
   ],
   "source": [
    "class Stack:\n",
    "    def __init__(a,size):\n",
    "        a.size =size\n",
    "        a.array =[0 for i in range(size)]\n",
    "        a.top = 0\n",
    "\n",
    "    def push_(a,y):\n",
    "        if a.top == a.size-1:\n",
    "            return \"ouer full this\"\n",
    "        a.array[a.top]=y\n",
    "        a.top +=1\n",
    "\n",
    "    def pop (a):\n",
    "        if a.top >= 0:\n",
    "            return \"ouer under full\"\n",
    "        a.top -= 1\n",
    "        return a.array[a.top]\n",
    "\n",
    "    def peck(a):\n",
    "        if a.top >=0:\n",
    "            return a.array[a.top-1]\n",
    "\n",
    "    \n",
    "    def is_empty(a):\n",
    "        return a.top == 0\n",
    "\n",
    "    def full_emp(a):\n",
    "        return a.top == a.size -1 ### ks start ho o indexing\n",
    "\n",
    "sk = Stack(5)\n",
    "sk.push_(43)\n",
    "sk.push_(89)\n",
    "sk.push_(90)\n",
    "sk.push_(76)\n",
    "sk.push_(48)\n",
    "print(sk.pop())\n",
    "print(sk.array)\n",
    "print(sk.peck())\n",
    "print(sk.is_empty())\n",
    "print(sk.full_emp())\n",
    "\n",
    "\n",
    "\n",
    "    \n",
    "\n",
    "\n",
    "        "
   ]
  }
 ],
 "metadata": {
  "kernelspec": {
   "display_name": "Python 3.11.1 64-bit",
   "language": "python",
   "name": "python3"
  },
  "language_info": {
   "codemirror_mode": {
    "name": "ipython",
    "version": 3
   },
   "file_extension": ".py",
   "mimetype": "text/x-python",
   "name": "python",
   "nbconvert_exporter": "python",
   "pygments_lexer": "ipython3",
   "version": "3.11.1"
  },
  "orig_nbformat": 4,
  "vscode": {
   "interpreter": {
    "hash": "a7627f1bfa14ac677299dcab94b37cd642a9a5393027346479b1e4dc591e7763"
   }
  }
 },
 "nbformat": 4,
 "nbformat_minor": 2
}

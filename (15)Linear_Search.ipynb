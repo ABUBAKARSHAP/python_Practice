{
 "cells": [
  {
   "cell_type": "code",
   "execution_count": 1,
   "metadata": {},
   "outputs": [
    {
     "name": "stdout",
     "output_type": "stream",
     "text": [
      " find the target found at index: 0\n"
     ]
    }
   ],
   "source": [
    "def linear_search(arr,target):\n",
    "    result = [i for i in range(len(arr)) if arr[i]==target]\n",
    "    return result [0] if result else -1\n",
    "\n",
    "arr = (\"abu bakar\",\"ali\",\"osman\")\n",
    "target = \"abu bakar\"\n",
    "index= linear_search(arr,target)\n",
    "\n",
    "if index !=-1:\n",
    "    print(\" find the target found at index:\",index)\n",
    "else:\n",
    "    print(\"target not found in the list\")"
   ]
  }
 ],
 "metadata": {
  "kernelspec": {
   "display_name": "Python 3.11.1 64-bit",
   "language": "python",
   "name": "python3"
  },
  "language_info": {
   "codemirror_mode": {
    "name": "ipython",
    "version": 3
   },
   "file_extension": ".py",
   "mimetype": "text/x-python",
   "name": "python",
   "nbconvert_exporter": "python",
   "pygments_lexer": "ipython3",
   "version": "3.11.1"
  },
  "orig_nbformat": 4,
  "vscode": {
   "interpreter": {
    "hash": "a7627f1bfa14ac677299dcab94b37cd642a9a5393027346479b1e4dc591e7763"
   }
  }
 },
 "nbformat": 4,
 "nbformat_minor": 2
}

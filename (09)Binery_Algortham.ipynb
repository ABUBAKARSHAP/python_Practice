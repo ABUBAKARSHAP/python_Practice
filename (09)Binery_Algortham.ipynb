{
 "cells": [
  {
   "cell_type": "code",
   "execution_count": 1,
   "metadata": {},
   "outputs": [
    {
     "name": "stdout",
     "output_type": "stream",
     "text": [
      "step 0 : [1, 2, 3, 4, 5, 6, 7, 8, 9]\n"
     ]
    },
    {
     "ename": "TypeError",
     "evalue": "'<' not supported between instances of 'str' and 'int'",
     "output_type": "error",
     "traceback": [
      "\u001b[1;31m---------------------------------------------------------------------------\u001b[0m",
      "\u001b[1;31mTypeError\u001b[0m                                 Traceback (most recent call last)",
      "Cell \u001b[1;32mIn[1], line 26\u001b[0m\n\u001b[0;32m     22\u001b[0m my_list \u001b[39m=\u001b[39m [\u001b[39m1\u001b[39m,\u001b[39m2\u001b[39m,\u001b[39m3\u001b[39m,\u001b[39m4\u001b[39m,\u001b[39m5\u001b[39m,\u001b[39m6\u001b[39m,\u001b[39m7\u001b[39m,\u001b[39m8\u001b[39m,\u001b[39m9\u001b[39m]\n\u001b[0;32m     23\u001b[0m target \u001b[39m=\u001b[39m (\u001b[39m\"\u001b[39m\u001b[39msearch\u001b[39m\u001b[39m\"\u001b[39m)\n\u001b[1;32m---> 26\u001b[0m binar_search(my_list, target)\n",
      "Cell \u001b[1;32mIn[1], line 15\u001b[0m, in \u001b[0;36mbinar_search\u001b[1;34m(list, element)\u001b[0m\n\u001b[0;32m     13\u001b[0m \u001b[39mif\u001b[39;00m element \u001b[39m==\u001b[39m \u001b[39mlist\u001b[39m[middle]:\n\u001b[0;32m     14\u001b[0m     \u001b[39mreturn\u001b[39;00m middle\n\u001b[1;32m---> 15\u001b[0m \u001b[39mif\u001b[39;00m element \u001b[39m<\u001b[39;49m \u001b[39mlist\u001b[39;49m [middle]:\n\u001b[0;32m     16\u001b[0m     end \u001b[39m=\u001b[39m middle \u001b[39m-\u001b[39m\u001b[39m1\u001b[39m\n\u001b[0;32m     17\u001b[0m \u001b[39melse\u001b[39;00m:\n",
      "\u001b[1;31mTypeError\u001b[0m: '<' not supported between instances of 'str' and 'int'"
     ]
    }
   ],
   "source": [
    "\n",
    "\n",
    "def binar_search(list, element):\n",
    "    middle = 0\n",
    "    start = 0\n",
    "    end = len(list)\n",
    "    steps = 0\n",
    "\n",
    "    while(start<=end):\n",
    "        print('step',steps, \":\" ,str(list[start:end+1]))\n",
    "\n",
    "        steps = steps+1\n",
    "        middle = (start + end ) // 2\n",
    "\n",
    "        if element == list[middle]:\n",
    "            return middle\n",
    "        if element < list [middle]:\n",
    "            end = middle -1\n",
    "        else:\n",
    "            start = middle + 1\n",
    "\n",
    "    return -1\n",
    "    \n",
    "my_list = [1,2,3,4,5,6,7,8,9]\n",
    "target = 4\n",
    "\n",
    "    \n",
    "binar_search(my_list, target)\n",
    "\n",
    "\n",
    "\n",
    "\n",
    " "
   ]
  }
 ],
 "metadata": {
  "kernelspec": {
   "display_name": "Python 3.11.1 64-bit",
   "language": "python",
   "name": "python3"
  },
  "language_info": {
   "codemirror_mode": {
    "name": "ipython",
    "version": 3
   },
   "file_extension": ".py",
   "mimetype": "text/x-python",
   "name": "python",
   "nbconvert_exporter": "python",
   "pygments_lexer": "ipython3",
   "version": "3.11.1"
  },
  "orig_nbformat": 4,
  "vscode": {
   "interpreter": {
    "hash": "a7627f1bfa14ac677299dcab94b37cd642a9a5393027346479b1e4dc591e7763"
   }
  }
 },
 "nbformat": 4,
 "nbformat_minor": 2
}

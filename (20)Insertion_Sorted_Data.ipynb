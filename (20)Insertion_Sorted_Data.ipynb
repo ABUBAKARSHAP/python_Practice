{
 "cells": [
  {
   "cell_type": "code",
   "execution_count": 1,
   "metadata": {},
   "outputs": [
    {
     "data": {
      "text/plain": [
       "[-2, 6, 8, 20, 30, 40, 70, 100, 3000]"
      ]
     },
     "execution_count": 1,
     "metadata": {},
     "output_type": "execute_result"
    }
   ],
   "source": [
    "\n",
    "def Insertion(data):\n",
    "    hi = len(data)\n",
    "    for i in range(hi):\n",
    "        hii = data[i]\n",
    "        uu = i-1\n",
    "        while uu>=0 and hii<data[uu]:\n",
    "            data[uu+1]=data[uu]\n",
    "            uu-=1\n",
    "            data[uu+1]=hii  \n",
    "    return data\n",
    "\n",
    "Insertion([20,30,3000,40,6,70,8,-2,100])"
   ]
  }
 ],
 "metadata": {
  "kernelspec": {
   "display_name": "Python 3.11.1 64-bit",
   "language": "python",
   "name": "python3"
  },
  "language_info": {
   "codemirror_mode": {
    "name": "ipython",
    "version": 3
   },
   "file_extension": ".py",
   "mimetype": "text/x-python",
   "name": "python",
   "nbconvert_exporter": "python",
   "pygments_lexer": "ipython3",
   "version": "3.11.1"
  },
  "orig_nbformat": 4,
  "vscode": {
   "interpreter": {
    "hash": "a7627f1bfa14ac677299dcab94b37cd642a9a5393027346479b1e4dc591e7763"
   }
  }
 },
 "nbformat": 4,
 "nbformat_minor": 2
}

{
 "cells": [
  {
   "cell_type": "code",
   "execution_count": 3,
   "metadata": {},
   "outputs": [
    {
     "name": "stdout",
     "output_type": "stream",
     "text": [
      "enter the value of name 1\n"
     ]
    }
   ],
   "source": [
    "\n",
    "def saimplefinedname(name,name1):\n",
    "    for i in range(len(name)):\n",
    "        if name [i]==name1:\n",
    "            return i\n",
    "    return -1\n",
    "\n",
    "name1 =input(\"enter the valiue of num\")\n",
    "name = [\"abu bakar\",\"usman\",\"khalid\",\"ali\"]\n",
    "    #name1 =input(\"search\")\n",
    "x = saimplefinedname(name,name1)\n",
    "if x!=-1:\n",
    "    print(\"enter the value of name\",x)\n",
    "else:\n",
    "    print(\"note find this value \")"
   ]
  }
 ],
 "metadata": {
  "kernelspec": {
   "display_name": "Python 3.11.1 64-bit",
   "language": "python",
   "name": "python3"
  },
  "language_info": {
   "codemirror_mode": {
    "name": "ipython",
    "version": 3
   },
   "file_extension": ".py",
   "mimetype": "text/x-python",
   "name": "python",
   "nbconvert_exporter": "python",
   "pygments_lexer": "ipython3",
   "version": "3.11.1"
  },
  "orig_nbformat": 4,
  "vscode": {
   "interpreter": {
    "hash": "a7627f1bfa14ac677299dcab94b37cd642a9a5393027346479b1e4dc591e7763"
   }
  }
 },
 "nbformat": 4,
 "nbformat_minor": 2
}

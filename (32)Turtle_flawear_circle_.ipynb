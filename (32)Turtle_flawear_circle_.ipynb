{
 "cells": [
  {
   "cell_type": "code",
   "execution_count": 1,
   "metadata": {},
   "outputs": [
    {
     "ename": "Terminator",
     "evalue": "",
     "output_type": "error",
     "traceback": [
      "\u001b[1;31m---------------------------------------------------------------------------\u001b[0m",
      "\u001b[1;31mTerminator\u001b[0m                                Traceback (most recent call last)",
      "Cell \u001b[1;32mIn[1], line 26\u001b[0m\n\u001b[0;32m     24\u001b[0m             circle(j, \u001b[39m299\u001b[39m, steps\u001b[39m=\u001b[39m\u001b[39m2\u001b[39m)\n\u001b[0;32m     25\u001b[0m         end_fill()\n\u001b[1;32m---> 26\u001b[0m draw()\n\u001b[0;32m     27\u001b[0m done() \n",
      "Cell \u001b[1;32mIn[1], line 24\u001b[0m, in \u001b[0;36mdraw\u001b[1;34m()\u001b[0m\n\u001b[0;32m     22\u001b[0m \u001b[39mfor\u001b[39;00m j \u001b[39min\u001b[39;00m \u001b[39mrange\u001b[39m(\u001b[39m129\u001b[39m):\n\u001b[0;32m     23\u001b[0m     fd(i)\n\u001b[1;32m---> 24\u001b[0m     circle(j, \u001b[39m299\u001b[39;49m, steps\u001b[39m=\u001b[39;49m\u001b[39m2\u001b[39;49m)\n\u001b[0;32m     25\u001b[0m end_fill()\n",
      "File \u001b[1;32m<string>:8\u001b[0m, in \u001b[0;36mcircle\u001b[1;34m(radius, extent, steps)\u001b[0m\n",
      "File \u001b[1;32mc:\\Users\\waqar com\\AppData\\Local\\Programs\\Python\\Python311\\Lib\\turtle.py:1993\u001b[0m, in \u001b[0;36mTNavigator.circle\u001b[1;34m(self, radius, extent, steps)\u001b[0m\n\u001b[0;32m   1991\u001b[0m     \u001b[39mself\u001b[39m\u001b[39m.\u001b[39mspeed(speed)\n\u001b[0;32m   1992\u001b[0m     \u001b[39mself\u001b[39m\u001b[39m.\u001b[39m_go(l)\n\u001b[1;32m-> 1993\u001b[0m     \u001b[39mself\u001b[39;49m\u001b[39m.\u001b[39;49mspeed(\u001b[39m0\u001b[39;49m)\n\u001b[0;32m   1994\u001b[0m     \u001b[39mself\u001b[39m\u001b[39m.\u001b[39m_rotate(w)\n\u001b[0;32m   1995\u001b[0m \u001b[39mself\u001b[39m\u001b[39m.\u001b[39m_rotate(\u001b[39m-\u001b[39mw2)\n",
      "File \u001b[1;32mc:\\Users\\waqar com\\AppData\\Local\\Programs\\Python\\Python311\\Lib\\turtle.py:2175\u001b[0m, in \u001b[0;36mTPen.speed\u001b[1;34m(self, speed)\u001b[0m\n\u001b[0;32m   2173\u001b[0m \u001b[39melse\u001b[39;00m:\n\u001b[0;32m   2174\u001b[0m     speed \u001b[39m=\u001b[39m \u001b[39m0\u001b[39m\n\u001b[1;32m-> 2175\u001b[0m \u001b[39mself\u001b[39;49m\u001b[39m.\u001b[39;49mpen(speed\u001b[39m=\u001b[39;49mspeed)\n",
      "File \u001b[1;32mc:\\Users\\waqar com\\AppData\\Local\\Programs\\Python\\Python311\\Lib\\turtle.py:2460\u001b[0m, in \u001b[0;36mTPen.pen\u001b[1;34m(self, pen, **pendict)\u001b[0m\n\u001b[0;32m   2457\u001b[0m     sa, ca \u001b[39m=\u001b[39m math\u001b[39m.\u001b[39msin(\u001b[39mself\u001b[39m\u001b[39m.\u001b[39m_tilt), math\u001b[39m.\u001b[39mcos(\u001b[39mself\u001b[39m\u001b[39m.\u001b[39m_tilt)\n\u001b[0;32m   2458\u001b[0m     \u001b[39mself\u001b[39m\u001b[39m.\u001b[39m_shapetrafo \u001b[39m=\u001b[39m ( scx\u001b[39m*\u001b[39mca, scy\u001b[39m*\u001b[39m(shf\u001b[39m*\u001b[39mca \u001b[39m+\u001b[39m sa),\n\u001b[0;32m   2459\u001b[0m                         \u001b[39m-\u001b[39mscx\u001b[39m*\u001b[39msa, scy\u001b[39m*\u001b[39m(ca \u001b[39m-\u001b[39m shf\u001b[39m*\u001b[39msa))\n\u001b[1;32m-> 2460\u001b[0m \u001b[39mself\u001b[39;49m\u001b[39m.\u001b[39;49m_update()\n",
      "File \u001b[1;32mc:\\Users\\waqar com\\AppData\\Local\\Programs\\Python\\Python311\\Lib\\turtle.py:2666\u001b[0m, in \u001b[0;36mRawTurtle._update\u001b[1;34m(self)\u001b[0m\n\u001b[0;32m   2664\u001b[0m     screen\u001b[39m.\u001b[39m_delay(screen\u001b[39m.\u001b[39m_delayvalue) \u001b[39m# TurtleScreenBase\u001b[39;00m\n\u001b[0;32m   2665\u001b[0m \u001b[39melse\u001b[39;00m:\n\u001b[1;32m-> 2666\u001b[0m     \u001b[39mself\u001b[39;49m\u001b[39m.\u001b[39;49m_update_data()\n\u001b[0;32m   2667\u001b[0m     \u001b[39mif\u001b[39;00m screen\u001b[39m.\u001b[39m_updatecounter \u001b[39m==\u001b[39m \u001b[39m0\u001b[39m:\n\u001b[0;32m   2668\u001b[0m         \u001b[39mfor\u001b[39;00m t \u001b[39min\u001b[39;00m screen\u001b[39m.\u001b[39mturtles():\n",
      "File \u001b[1;32mc:\\Users\\waqar com\\AppData\\Local\\Programs\\Python\\Python311\\Lib\\turtle.py:2647\u001b[0m, in \u001b[0;36mRawTurtle._update_data\u001b[1;34m(self)\u001b[0m\n\u001b[0;32m   2646\u001b[0m \u001b[39mdef\u001b[39;00m \u001b[39m_update_data\u001b[39m(\u001b[39mself\u001b[39m):\n\u001b[1;32m-> 2647\u001b[0m     \u001b[39mself\u001b[39;49m\u001b[39m.\u001b[39;49mscreen\u001b[39m.\u001b[39;49m_incrementudc()\n\u001b[0;32m   2648\u001b[0m     \u001b[39mif\u001b[39;00m \u001b[39mself\u001b[39m\u001b[39m.\u001b[39mscreen\u001b[39m.\u001b[39m_updatecounter \u001b[39m!=\u001b[39m \u001b[39m0\u001b[39m:\n\u001b[0;32m   2649\u001b[0m         \u001b[39mreturn\u001b[39;00m\n",
      "File \u001b[1;32mc:\\Users\\waqar com\\AppData\\Local\\Programs\\Python\\Python311\\Lib\\turtle.py:1293\u001b[0m, in \u001b[0;36mTurtleScreen._incrementudc\u001b[1;34m(self)\u001b[0m\n\u001b[0;32m   1291\u001b[0m \u001b[39mif\u001b[39;00m \u001b[39mnot\u001b[39;00m TurtleScreen\u001b[39m.\u001b[39m_RUNNING:\n\u001b[0;32m   1292\u001b[0m     TurtleScreen\u001b[39m.\u001b[39m_RUNNING \u001b[39m=\u001b[39m \u001b[39mTrue\u001b[39;00m\n\u001b[1;32m-> 1293\u001b[0m     \u001b[39mraise\u001b[39;00m Terminator\n\u001b[0;32m   1294\u001b[0m \u001b[39mif\u001b[39;00m \u001b[39mself\u001b[39m\u001b[39m.\u001b[39m_tracing \u001b[39m>\u001b[39m \u001b[39m0\u001b[39m:\n\u001b[0;32m   1295\u001b[0m     \u001b[39mself\u001b[39m\u001b[39m.\u001b[39m_updatecounter \u001b[39m+\u001b[39m\u001b[39m=\u001b[39m \u001b[39m1\u001b[39m\n",
      "\u001b[1;31mTerminator\u001b[0m: "
     ]
    }
   ],
   "source": [
    "from turtle import*\n",
    "import colorsys\n",
    "bgcolor('black')\n",
    "tracer (500)\n",
    "\n",
    "def draw():\n",
    "    h = 0\n",
    "    for i in range(100):\n",
    "        c = colorsys.hsv_to_rgb(h,1,1)\n",
    "        h += 0.5\n",
    "        up()\n",
    "        goto(0,0)\n",
    "        down()\n",
    "        color('black')\n",
    "        fillcolor (c)\n",
    "        begin_fill()\n",
    "        rt (98)\n",
    "        circle(i, 12)\n",
    "        fd (290)\n",
    "        fd(i)\n",
    "        lt(29)\n",
    "        for j in range(129):\n",
    "            fd(i)\n",
    "            circle(j, 299, steps=2)\n",
    "        end_fill()\n",
    "draw()\n",
    "done() "
   ]
  }
 ],
 "metadata": {
  "kernelspec": {
   "display_name": "Python 3.11.1 64-bit",
   "language": "python",
   "name": "python3"
  },
  "language_info": {
   "codemirror_mode": {
    "name": "ipython",
    "version": 3
   },
   "file_extension": ".py",
   "mimetype": "text/x-python",
   "name": "python",
   "nbconvert_exporter": "python",
   "pygments_lexer": "ipython3",
   "version": "3.11.1"
  },
  "orig_nbformat": 4,
  "vscode": {
   "interpreter": {
    "hash": "a7627f1bfa14ac677299dcab94b37cd642a9a5393027346479b1e4dc591e7763"
   }
  }
 },
 "nbformat": 4,
 "nbformat_minor": 2
}

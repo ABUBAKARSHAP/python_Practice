{
 "cells": [
  {
   "cell_type": "code",
   "execution_count": 1,
   "metadata": {},
   "outputs": [
    {
     "ename": "Terminator",
     "evalue": "",
     "output_type": "error",
     "traceback": [
      "\u001b[1;31m---------------------------------------------------------------------------\u001b[0m",
      "\u001b[1;31mTerminator\u001b[0m                                Traceback (most recent call last)",
      "Cell \u001b[1;32mIn[1], line 13\u001b[0m\n\u001b[0;32m     11\u001b[0m bgcolor(\u001b[39m\"\u001b[39m\u001b[39mblack\u001b[39m\u001b[39m\"\u001b[39m)\n\u001b[0;32m     12\u001b[0m \u001b[39mfor\u001b[39;00m i \u001b[39min\u001b[39;00m \u001b[39mrange\u001b[39m(\u001b[39m6000\u001b[39m):\n\u001b[1;32m---> 13\u001b[0m     goto(hearta(i)\u001b[39m*\u001b[39;49m\u001b[39m20\u001b[39;49m,heartb(i)\u001b[39m*\u001b[39;49m\u001b[39m20\u001b[39;49m)\n\u001b[0;32m     14\u001b[0m     \u001b[39mfor\u001b[39;00m j \u001b[39min\u001b[39;00m \u001b[39mrange\u001b[39m(\u001b[39m5\u001b[39m):\n\u001b[0;32m     15\u001b[0m         color(\u001b[39m\"\u001b[39m\u001b[39m#f75489\u001b[39m\u001b[39m\"\u001b[39m)\n",
      "File \u001b[1;32m<string>:5\u001b[0m, in \u001b[0;36mgoto\u001b[1;34m(x, y)\u001b[0m\n",
      "\u001b[1;31mTerminator\u001b[0m: "
     ]
    }
   ],
   "source": [
    "import math\n",
    "from turtle import *\n",
    "def hearta(k):\n",
    "    return 15*math.sin(k)**3\n",
    "def heartb(k):\n",
    "    return 12*math.cos(k)-5*\\\n",
    "        math.cos(2*k)-2*\\\n",
    "        math.cos(3*k)-\\\n",
    "        math.cos(4*k)\n",
    "speed(100)\n",
    "bgcolor(\"black\")\n",
    "for i in range(6000):\n",
    "    goto(hearta(i)*20,heartb(i)*20)\n",
    "    for j in range(5):\n",
    "        color(\"#f75489\")\n",
    "    goto(0,0)\n",
    "done()"
   ]
  }
 ],
 "metadata": {
  "kernelspec": {
   "display_name": "Python 3.11.1 64-bit",
   "language": "python",
   "name": "python3"
  },
  "language_info": {
   "codemirror_mode": {
    "name": "ipython",
    "version": 3
   },
   "file_extension": ".py",
   "mimetype": "text/x-python",
   "name": "python",
   "nbconvert_exporter": "python",
   "pygments_lexer": "ipython3",
   "version": "3.11.1"
  },
  "orig_nbformat": 4,
  "vscode": {
   "interpreter": {
    "hash": "a7627f1bfa14ac677299dcab94b37cd642a9a5393027346479b1e4dc591e7763"
   }
  }
 },
 "nbformat": 4,
 "nbformat_minor": 2
}

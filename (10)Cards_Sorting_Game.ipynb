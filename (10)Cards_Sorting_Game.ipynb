{
 "cells": [
  {
   "cell_type": "code",
   "execution_count": null,
   "metadata": {},
   "outputs": [],
   "source": [
    "p = {\n",
    "    'A' : 0,\n",
    "    2:  1,\n",
    "    3: 2,\n",
    "    4: 3,\n",
    "    5: 4,\n",
    "    6: 5,\n",
    "    7: 6,\n",
    "    8: 7,\n",
    "    9: 8,\n",
    "    10: 9,\n",
    "    \"J\":10,\n",
    "    \"Q\":11,\n",
    "    \"K\":12,\n",
    "}\n",
    "cards = [7,9,4,8,10,\"A\",\"K\",5,3,2,\"J\",\"Q\",6]\n",
    "n =len (cards)\n",
    "for i in range(n):\n",
    "    for J in range (0,n-i-1):\n",
    "        if p[cards[J]] > p[cards[J+1]]:\n",
    "            cards[J],cards[J+1] = cards[J+1],cards[J]\n",
    "print(cards)"
   ]
  }
 ],
 "metadata": {
  "language_info": {
   "name": "python"
  },
  "orig_nbformat": 4
 },
 "nbformat": 4,
 "nbformat_minor": 2
}

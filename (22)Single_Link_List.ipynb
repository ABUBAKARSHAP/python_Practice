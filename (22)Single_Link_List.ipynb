{
 "cells": [
  {
   "cell_type": "code",
   "execution_count": 1,
   "metadata": {},
   "outputs": [
    {
     "name": "stdout",
     "output_type": "stream",
     "text": [
      "Ni hy ess m\n",
      "45456\n",
      "Zakariya\n",
      "4343\n",
      "222\n",
      "23\n",
      "2\n",
      "44\n"
     ]
    }
   ],
   "source": [
    "class Node:\n",
    "    def __init__(self,e):\n",
    "        self.value=e\n",
    "        self.next = None\n",
    "\n",
    "class slinklist:\n",
    "    def __init__(self):\n",
    "        self.head = None\n",
    "        self.tail = None\n",
    "\n",
    "    def insertafirst(self,e):\n",
    "        n=Node(e)\n",
    "        if self.head is None:\n",
    "            self.head = n\n",
    "            self.tail = n\n",
    "        else:\n",
    "            n.next = self.head\n",
    "            self.head = n\n",
    "\n",
    "    def insertalast(self,e):\n",
    "        n = Node(e)\n",
    "        if self.head is None:\n",
    "            self.head = n\n",
    "            self.tail = n\n",
    "        else:\n",
    "            self.tail.next = n\n",
    "            self.tail = n\n",
    "\n",
    "    def show(self):\n",
    "        x = self.head\n",
    "        while x is not None:\n",
    "            print(x.value)\n",
    "            x = x.next\n",
    "            \n",
    "            \n",
    "    def search(self,e):\n",
    "        x = self.head\n",
    "        while x is not None:\n",
    "            if x.value == e:\n",
    "                return x\n",
    "            x = x.next\n",
    "        else:\n",
    "                \n",
    "            return \"Ni hy ess m\"\n",
    "    def insertAfter(self, e, data):\n",
    "        n = Node(data)\n",
    "        a = self.search(e)\n",
    "        n.next = a.next\n",
    "        a.next = n \n",
    "    \n",
    " \n",
    "s =slinklist()\n",
    "s.insertafirst(2)\n",
    "s.insertafirst(23)\n",
    "s.insertafirst(222)\n",
    "s.insertafirst(4343)\n",
    "s.insertafirst(45456)\n",
    "s.insertalast(44)\n",
    "# s.show()\n",
    "\n",
    "\n",
    "s.insertAfter(45456,\"Zakariya\")\n",
    "# s.show()\n",
    "print(s.search(4545))\n",
    "s.head.value\n",
    "s.show()\n",
    "\n",
    "\n",
    "    \n",
    "\n",
    "\n"
   ]
  }
 ],
 "metadata": {
  "kernelspec": {
   "display_name": "Python 3.11.1 64-bit",
   "language": "python",
   "name": "python3"
  },
  "language_info": {
   "codemirror_mode": {
    "name": "ipython",
    "version": 3
   },
   "file_extension": ".py",
   "mimetype": "text/x-python",
   "name": "python",
   "nbconvert_exporter": "python",
   "pygments_lexer": "ipython3",
   "version": "3.11.1"
  },
  "orig_nbformat": 4,
  "vscode": {
   "interpreter": {
    "hash": "a7627f1bfa14ac677299dcab94b37cd642a9a5393027346479b1e4dc591e7763"
   }
  }
 },
 "nbformat": 4,
 "nbformat_minor": 2
}

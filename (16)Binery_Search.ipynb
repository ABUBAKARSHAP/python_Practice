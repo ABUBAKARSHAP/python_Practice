{
 "cells": [
  {
   "cell_type": "code",
   "execution_count": 1,
   "metadata": {},
   "outputs": [
    {
     "name": "stdout",
     "output_type": "stream",
     "text": [
      "find the target found at index 0\n"
     ]
    }
   ],
   "source": [
    "\n",
    "def binery(list,target):\n",
    "    s = 0\n",
    "    e = len(list)-1\n",
    "    while (s<=e):\n",
    "        mid=(s+e)//2\n",
    "        if list[mid].startswith(target):\n",
    "            return mid\n",
    "        elif list[mid]<=target:\n",
    "            s = mid + 1\n",
    "        else:\n",
    "            e = mid - 1\n",
    "    return-1\n",
    "list =[\"apple\", \"banana\", \"cherry\", \"date\", \"fig\", \"grape\", \"kiwi\", \"lemon\", \"melon\", \"orange\", \"peach\", \"pear\", \"pineapple\", \"raspberry\", \"strawberry\"]\n",
    "target = input(\"search\")\n",
    "index = binery(list,target)\n",
    "if index !=-1:\n",
    "    print(\"find the target found at index\",index)\n",
    "else:\n",
    "    print(\"not found in the list\")\n",
    "\n"
   ]
  }
 ],
 "metadata": {
  "kernelspec": {
   "display_name": "Python 3.11.1 64-bit",
   "language": "python",
   "name": "python3"
  },
  "language_info": {
   "codemirror_mode": {
    "name": "ipython",
    "version": 3
   },
   "file_extension": ".py",
   "mimetype": "text/x-python",
   "name": "python",
   "nbconvert_exporter": "python",
   "pygments_lexer": "ipython3",
   "version": "3.11.1"
  },
  "orig_nbformat": 4,
  "vscode": {
   "interpreter": {
    "hash": "a7627f1bfa14ac677299dcab94b37cd642a9a5393027346479b1e4dc591e7763"
   }
  }
 },
 "nbformat": 4,
 "nbformat_minor": 2
}
